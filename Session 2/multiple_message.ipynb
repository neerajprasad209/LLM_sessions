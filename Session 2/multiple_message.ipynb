{
 "cells": [
  {
   "cell_type": "code",
   "execution_count": 6,
   "metadata": {},
   "outputs": [],
   "source": [
    "import os\n",
    "from langchain.chat_models import ChatOpenAI\n",
    "from langchain.schema import HumanMessage\n",
    "from dotenv import load_dotenv"
   ]
  },
  {
   "cell_type": "code",
   "execution_count": 2,
   "metadata": {},
   "outputs": [],
   "source": [
    "import textwrap\n",
    "from IPython.display import display\n",
    "from IPython.display import Markdown\n",
    "\n",
    "def to_markdown(text):\n",
    "    text = text.replace(\".\",\" *\")\n",
    "\n",
    "    return Markdown(textwrap.indent(text,'> ', predicate=lambda _:True))"
   ]
  },
  {
   "cell_type": "code",
   "execution_count": 3,
   "metadata": {},
   "outputs": [],
   "source": [
    "load_dotenv()\n",
    "\n",
    "api_key = os.getenv('OPENAI_API_KEY')"
   ]
  },
  {
   "cell_type": "code",
   "execution_count": 5,
   "metadata": {},
   "outputs": [],
   "source": [
    "chat_model = ChatOpenAI(api_key=api_key)"
   ]
  },
  {
   "cell_type": "code",
   "execution_count": 7,
   "metadata": {},
   "outputs": [],
   "source": [
    "message = [\n",
    "    HumanMessage(content=\"Explain the machine Learning\"),\n",
    "    HumanMessage(content=\"Explain the types of machine learnig\")\n",
    "]"
   ]
  },
  {
   "cell_type": "code",
   "execution_count": 8,
   "metadata": {},
   "outputs": [
    {
     "name": "stderr",
     "output_type": "stream",
     "text": [
      "d:\\My End to End Projects\\LLM\\llmenv\\lib\\site-packages\\langchain_core\\_api\\deprecation.py:119: LangChainDeprecationWarning: The method `BaseChatModel.predict_messages` was deprecated in langchain-core 0.1.7 and will be removed in 0.3.0. Use invoke instead.\n",
      "  warn_deprecated(\n"
     ]
    }
   ],
   "source": [
    "result = chat_model.predict_messages(message)"
   ]
  },
  {
   "cell_type": "code",
   "execution_count": 12,
   "metadata": {},
   "outputs": [
    {
     "data": {
      "text/markdown": [
       "> Machine learning can be broadly categorized into three main types:\n",
       "> \n",
       "> 1 * Supervised Learning: In supervised learning, the algorithm is trained on labeled data, where each input data point is paired with the corresponding output label * The algorithm learns to map inputs to outputs based on the patterns and relationships present in the training data * Common algorithms used in supervised learning include linear regression, logistic regression, support vector machines, and neural networks *\n",
       "> \n",
       "> 2 * Unsupervised Learning: Unsupervised learning involves training the algorithm on unlabeled data, where the algorithm tries to find patterns and relationships in the data without any predefined output labels * The goal of unsupervised learning is to discover the underlying structure of the data, such as clustering similar data points together or reducing the dimensionality of the data * Common algorithms used in unsupervised learning include k-means clustering, hierarchical clustering, and principal component analysis *\n",
       "> \n",
       "> 3 * Reinforcement Learning: In reinforcement learning, the algorithm learns to make decisions by interacting with an environment and receiving feedback in the form of rewards or penalties * The algorithm learns to maximize the cumulative reward over time by taking actions that lead to positive outcomes * Reinforcement learning is often used in scenarios where an agent needs to learn to navigate a complex environment or optimize a specific objective * Common algorithms used in reinforcement learning include Q-learning, deep Q-networks, and policy gradient methods *\n",
       "> \n",
       "> Each type of machine learning has its own strengths and weaknesses, and the choice of algorithm depends on the specific problem at hand and the nature of the data available for training *"
      ],
      "text/plain": [
       "<IPython.core.display.Markdown object>"
      ]
     },
     "execution_count": 12,
     "metadata": {},
     "output_type": "execute_result"
    }
   ],
   "source": [
    "to_markdown(result.content)"
   ]
  },
  {
   "cell_type": "code",
   "execution_count": null,
   "metadata": {},
   "outputs": [],
   "source": []
  }
 ],
 "metadata": {
  "kernelspec": {
   "display_name": "Python 3",
   "language": "python",
   "name": "python3"
  },
  "language_info": {
   "codemirror_mode": {
    "name": "ipython",
    "version": 3
   },
   "file_extension": ".py",
   "mimetype": "text/x-python",
   "name": "python",
   "nbconvert_exporter": "python",
   "pygments_lexer": "ipython3",
   "version": "3.10.14"
  }
 },
 "nbformat": 4,
 "nbformat_minor": 2
}
