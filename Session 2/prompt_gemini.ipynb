{
 "cells": [
  {
   "cell_type": "code",
   "execution_count": 3,
   "metadata": {},
   "outputs": [],
   "source": [
    "import google.generativeai as genai\n",
    "from dotenv import load_dotenv\n",
    "import os"
   ]
  },
  {
   "cell_type": "code",
   "execution_count": 5,
   "metadata": {},
   "outputs": [],
   "source": [
    "load_dotenv()\n",
    "\n",
    "gemini_api_key = os.getenv('GEMINI_API_KEY')"
   ]
  },
  {
   "cell_type": "markdown",
   "metadata": {},
   "source": [
    "# List models\n",
    "Use `list_models()` to see what models are available. These models support `generateContent`, the main method used for prompting."
   ]
  },
  {
   "cell_type": "code",
   "execution_count": 8,
   "metadata": {},
   "outputs": [
    {
     "name": "stdout",
     "output_type": "stream",
     "text": [
      "models/gemini-1.0-pro\n",
      "models/gemini-1.0-pro-001\n",
      "models/gemini-1.0-pro-latest\n",
      "models/gemini-1.0-pro-vision-latest\n",
      "models/gemini-1.5-flash\n",
      "models/gemini-1.5-flash-001\n",
      "models/gemini-1.5-flash-latest\n",
      "models/gemini-1.5-pro\n",
      "models/gemini-1.5-pro-001\n",
      "models/gemini-1.5-pro-latest\n",
      "models/gemini-pro\n",
      "models/gemini-pro-vision\n"
     ]
    }
   ],
   "source": [
    "genai.configure(api_key=gemini_api_key)\n",
    "\n",
    "for m in genai.list_models():\n",
    "    if 'generateContent' in m.supported_generation_methods:\n",
    "        print(m.name)"
   ]
  },
  {
   "cell_type": "markdown",
   "metadata": {},
   "source": [
    "# Run your first prompt\n",
    "Use the `generate_content` method to generate responses to your prompts. You can pass text directly to generate_content, and use the `.text` property to get the text content of the response."
   ]
  },
  {
   "cell_type": "code",
   "execution_count": 14,
   "metadata": {},
   "outputs": [],
   "source": [
    "chat_model = genai.GenerativeModel('gemini-1.5-flash')\n",
    "\n",
    "response = chat_model.generate_content(\"Write a blog on the topic Types of Machine Learning in 200 Words\")"
   ]
  },
  {
   "cell_type": "code",
   "execution_count": 15,
   "metadata": {},
   "outputs": [
    {
     "name": "stdout",
     "output_type": "stream",
     "text": [
      "## Navigating the World of Machine Learning: A Look at the Main Types\n",
      "\n",
      "Machine learning (ML) is all about teaching computers to learn from data without explicit programming. But within this vast field, there are distinct types, each with its own strengths and applications.\n",
      "\n",
      "**Supervised learning:** This type involves training a model on labeled data, where both inputs and desired outputs are provided. Think spam filters classifying emails, or image recognition software identifying objects.\n",
      "\n",
      "**Unsupervised learning:** Here, the model learns from unlabeled data, uncovering patterns and relationships within it. This is useful for clustering customers, anomaly detection, and finding hidden structures in data.\n",
      "\n",
      "**Reinforcement learning:** Inspired by psychology, this approach involves training a model through trial and error. The model receives rewards for desired actions, ultimately learning the optimal strategy for a given task. Examples include self-driving cars and game-playing AI.\n",
      "\n",
      "These are just the main categories, with various sub-types and hybrid approaches. Understanding these types allows you to choose the most appropriate method for your specific ML task, unleashing the power of data-driven decision making. \n",
      "\n"
     ]
    }
   ],
   "source": [
    "print(response.text)"
   ]
  },
  {
   "cell_type": "code",
   "execution_count": null,
   "metadata": {},
   "outputs": [],
   "source": []
  }
 ],
 "metadata": {
  "kernelspec": {
   "display_name": "Python 3",
   "language": "python",
   "name": "python3"
  },
  "language_info": {
   "codemirror_mode": {
    "name": "ipython",
    "version": 3
   },
   "file_extension": ".py",
   "mimetype": "text/x-python",
   "name": "python",
   "nbconvert_exporter": "python",
   "pygments_lexer": "ipython3",
   "version": "3.10.14"
  }
 },
 "nbformat": 4,
 "nbformat_minor": 2
}
