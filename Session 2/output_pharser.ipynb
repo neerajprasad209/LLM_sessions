{
 "cells": [
  {
   "cell_type": "code",
   "execution_count": 1,
   "metadata": {},
   "outputs": [],
   "source": [
    "import os\n",
    "from langchain.chat_models import ChatOpenAI\n",
    "from langchain_core.output_parsers import StrOutputParser\n",
    "from langchain.prompts import ChatPromptTemplate\n",
    "from dotenv import load_dotenv"
   ]
  },
  {
   "cell_type": "code",
   "execution_count": 15,
   "metadata": {},
   "outputs": [],
   "source": [
    "import textwrap\n",
    "from IPython.display import display\n",
    "from IPython.display import Markdown\n",
    "\n",
    "def to_markdown(text):\n",
    "    text = text.replace(\".\",\". \\n\")\n",
    "\n",
    "    return Markdown(textwrap.indent(text,'> ', predicate=lambda _:True))"
   ]
  },
  {
   "cell_type": "code",
   "execution_count": 2,
   "metadata": {},
   "outputs": [],
   "source": [
    "load_dotenv()\n",
    "\n",
    "api_key = os.getenv('OPENAI_API_KEY')"
   ]
  },
  {
   "cell_type": "code",
   "execution_count": 19,
   "metadata": {},
   "outputs": [],
   "source": [
    "chat_model = ChatOpenAI(model='gpt-4-turbo',api_key=api_key)"
   ]
  },
  {
   "cell_type": "code",
   "execution_count": 24,
   "metadata": {},
   "outputs": [],
   "source": [
    "template = \"You are a helpful assistant who write blogs. write a blog on the given topic and it should be of 200 words.\"\n",
    "\n",
    "human_template = \"{topic}\""
   ]
  },
  {
   "cell_type": "code",
   "execution_count": 25,
   "metadata": {},
   "outputs": [],
   "source": [
    "chat_prompt = ChatPromptTemplate.from_messages([\n",
    "    (\"system\",template),\n",
    "    (\"human\",human_template)\n",
    "])"
   ]
  },
  {
   "cell_type": "code",
   "execution_count": 26,
   "metadata": {},
   "outputs": [],
   "source": [
    "message = chat_prompt.format_messages(topic=\"Large Laanguage Model\")\n",
    "result = chat_model.predict_messages(message)"
   ]
  },
  {
   "cell_type": "code",
   "execution_count": 27,
   "metadata": {},
   "outputs": [
    {
     "data": {
      "text/markdown": [
       "> ### Unveiling the Potential of Large Language Models\n",
       "> \n",
       "> In the rapidly evolving world of artificial intelligence, Large Language Models (LLMs) have emerged as a groundbreaking development. \n",
       ">  LLMs like OpenAI's GPT-3 have revolutionized how we interact with machines, providing a glimpse into the future of automated text generation and natural language understanding. \n",
       "> \n",
       "> \n",
       "> Large Language Models are trained on diverse datasets comprising a wide array of text from books, articles, websites, and other sources. \n",
       ">  This extensive training enables the models to generate coherent and contextually relevant text based on the input they receive. \n",
       ">  The applications of LLMs are vast and varied, ranging from writing assistance, customer service automation, and language translation to more complex tasks like coding assistance and data analysis. \n",
       "> \n",
       "> \n",
       "> One of the most significant advantages of LLMs is their ability to understand and generate human-like text. \n",
       ">  This capability makes them exceptionally useful in industries where interaction and communication are key. \n",
       ">  For instance, in education, LLMs can provide personalized learning experiences and instant feedback to students. \n",
       ">  In customer service, they can handle inquiries and provide support 24/7 without human intervention. \n",
       "> \n",
       "> \n",
       "> However, the deployment of LLMs also raises important ethical considerations. \n",
       ">  Issues such as data privacy, security, and the potential for generating misleading information must be addressed to ensure that the benefits of LLMs are maximized while minimizing potential harms. \n",
       "> \n",
       "> \n",
       "> As we continue to integrate LLMs into various sectors, it is crucial to foster a balanced approach that promotes innovation and addresses ethical challenges. \n",
       ">  The future of LLMs is not just about technological advancement, but also about shaping a framework that supports responsible AI development. \n"
      ],
      "text/plain": [
       "<IPython.core.display.Markdown object>"
      ]
     },
     "execution_count": 27,
     "metadata": {},
     "output_type": "execute_result"
    }
   ],
   "source": [
    "parser = StrOutputParser()\n",
    "\n",
    "to_markdown(parser.invoke(result))"
   ]
  },
  {
   "cell_type": "code",
   "execution_count": null,
   "metadata": {},
   "outputs": [],
   "source": []
  }
 ],
 "metadata": {
  "kernelspec": {
   "display_name": "Python 3",
   "language": "python",
   "name": "python3"
  },
  "language_info": {
   "codemirror_mode": {
    "name": "ipython",
    "version": 3
   },
   "file_extension": ".py",
   "mimetype": "text/x-python",
   "name": "python",
   "nbconvert_exporter": "python",
   "pygments_lexer": "ipython3",
   "version": "3.10.14"
  }
 },
 "nbformat": 4,
 "nbformat_minor": 2
}
