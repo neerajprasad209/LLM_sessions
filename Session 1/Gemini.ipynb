{
 "cells": [
  {
   "cell_type": "code",
   "execution_count": 1,
   "metadata": {},
   "outputs": [],
   "source": [
    "import os\n",
    "from dotenv import load_dotenv\n",
    "import os"
   ]
  },
  {
   "cell_type": "code",
   "execution_count": 3,
   "metadata": {},
   "outputs": [],
   "source": [
    "import textwrap\n",
    "from IPython.display import display\n",
    "import google.generativeai as genai\n",
    "from IPython.display import Markdown\n",
    "\n",
    "def to_markdown(text):\n",
    "    text = text.replace(\".\",\". \\n\")\n",
    "\n",
    "    return Markdown(textwrap.indent(text,'> ', predicate=lambda _:True))\n",
    "\n"
   ]
  },
  {
   "cell_type": "code",
   "execution_count": 4,
   "metadata": {},
   "outputs": [],
   "source": [
    "load_dotenv()\n",
    "\n",
    "gemini_api = os.getenv(\"GEMINI_API_KEY\")"
   ]
  },
  {
   "cell_type": "code",
   "execution_count": 7,
   "metadata": {},
   "outputs": [
    {
     "name": "stdout",
     "output_type": "stream",
     "text": [
      "models/gemini-1.0-pro\n",
      "models/gemini-1.0-pro-001\n",
      "models/gemini-1.0-pro-latest\n",
      "models/gemini-1.0-pro-vision-latest\n",
      "models/gemini-1.5-flash\n",
      "models/gemini-1.5-flash-001\n",
      "models/gemini-1.5-flash-latest\n",
      "models/gemini-1.5-pro\n",
      "models/gemini-1.5-pro-001\n",
      "models/gemini-1.5-pro-latest\n",
      "models/gemini-pro\n",
      "models/gemini-pro-vision\n"
     ]
    }
   ],
   "source": [
    "genai.configure(api_key=gemini_api)\n",
    "\n",
    "for m in genai.list_models():\n",
    "  if 'generateContent' in m.supported_generation_methods:\n",
    "    print(m.name)"
   ]
  },
  {
   "cell_type": "code",
   "execution_count": 8,
   "metadata": {},
   "outputs": [],
   "source": [
    "model = genai.GenerativeModel('gemini-1.5-pro')"
   ]
  },
  {
   "cell_type": "code",
   "execution_count": 15,
   "metadata": {},
   "outputs": [
    {
     "name": "stdout",
     "output_type": "stream",
     "text": [
      "CPU times: total: 0 ns\n",
      "Wall time: 6.26 s\n"
     ]
    }
   ],
   "source": [
    "%%time\n",
    "\n",
    "response = model.generate_content(\"What is the defination of Machine Learnig Explain in 20 sentence\")"
   ]
  },
  {
   "cell_type": "code",
   "execution_count": 16,
   "metadata": {},
   "outputs": [
    {
     "data": {
      "text/markdown": [
       "> Machine learning is a fascinating subfield of artificial intelligence that empowers computers to learn from data without explicit programming. \n",
       ">  Imagine teaching a computer to identify cat pictures – instead of giving it strict rules about whiskers and tails, you feed it tons of cat images. \n",
       ">  Through machine learning algorithms, the computer analyzes patterns, extracts features, and builds its own understanding of what constitutes a cat. \n",
       ">  \n",
       "> \n",
       "> This \"learning\" process is based on identifying statistical relationships and hidden patterns within the data. \n",
       ">  The more data you provide, the better the machine learning model becomes at its task. \n",
       ">  It's like a child learning to ride a bike – practice and experience lead to improvement. \n",
       "> \n",
       "> \n",
       "> Machine learning algorithms come in various flavors, each suited for different tasks. \n",
       ">  Some predict future outcomes, like stock prices or movie recommendations. \n",
       ">  Others classify data into categories, like spam emails or different flower species. \n",
       ">  There are also algorithms that group similar data points together, revealing hidden structures in datasets. \n",
       ">  \n",
       "> \n",
       "> The beauty of machine learning lies in its ability to automate complex tasks, improve accuracy over time, and adapt to new data. \n",
       ">  It's revolutionizing industries from healthcare and finance to marketing and transportation, making our lives more efficient and insightful. \n",
       ">  By harnessing the power of data, machine learning is shaping the future of technology and our interactions with the world around us. \n",
       ">  \n"
      ],
      "text/plain": [
       "<IPython.core.display.Markdown object>"
      ]
     },
     "execution_count": 16,
     "metadata": {},
     "output_type": "execute_result"
    }
   ],
   "source": [
    "to_markdown(response.text)"
   ]
  },
  {
   "cell_type": "code",
   "execution_count": 17,
   "metadata": {},
   "outputs": [],
   "source": [
    "stream_response = model.generate_content(\"Expalin me what is large language Models with an example\", stream=True)"
   ]
  },
  {
   "cell_type": "code",
   "execution_count": 21,
   "metadata": {},
   "outputs": [
    {
     "data": {
      "text/plain": [
       "response:\n",
       "GenerateContentResponse(\n",
       "    done=True,\n",
       "    iterator=None,\n",
       "    result=protos.GenerateContentResponse({\n",
       "      \"candidates\": [\n",
       "        {\n",
       "          \"content\": {\n",
       "            \"parts\": [\n",
       "              {\n",
       "                \"text\": \"## Imagine a Super-Smart Parrot: That's a Large Language Model (LLM)\\n\\nLarge language models are like **super-smart parrots** that have been trained on a massive amount of text data. They can:\\n\\n* **Understand your words:** Like a parrot recognizing phrases, LLMs can analyze your text and figure out its meaning.\\n* **Generate human-like text:**  Instead of mimicking phrases, they can create coherent and grammatically correct text on various topics, like stories, poems, or even code.\\n* **Answer your questions:** LLMs can process information from their training data to provide answers, explanations, and summaries. \\n\\n**Here's an example:**\\n\\nImagine you ask an LLM like **ChatGPT (a popular LLM)**:\\n\\n**You:** \\\"Write a short poem about a cat napping in a sunbeam.\\\"\\n\\n**ChatGPT:** \\n\\n>A golden ray of warmth descends,\\n>Upon a furry form, it blends.\\n>A gentle purr, a sleepy sigh,\\n>As whiskered dreams drift softly by.\\n>The sunbeam holds its fluffy prize,\\n>A purring shadow, with closed eyes.\\n\\n**This demonstrates how LLMs can:**\\n\\n* **Understand the request:** The LLM understands you want a poem about a cat napping in the sun.\\n* **Generate creative text:** It doesn't just copy existing poems, it crafts an original one.\\n* **Mimic human language:** The poem uses vocabulary, structure, and style typical of human-written poetry.\\n\\n**LLMs are powerful tools with diverse applications, such as:**\\n\\n* **Chatbots:** Providing customer service and answering questions.\\n* **Content creation:** Generating articles, stories, and social media posts.\\n* **Translation:** Converting text between different languages.\\n* **Code generation:** Assisting programmers in writing and debugging code.\\n\\nHowever, it's important to remember that **LLMs are not sentient or conscious**. They operate based on patterns in the data they were trained on, and while they can seem impressively human-like, they lack true understanding or awareness.\\n\"\n",
       "              }\n",
       "            ],\n",
       "            \"role\": \"model\"\n",
       "          },\n",
       "          \"finish_reason\": \"STOP\",\n",
       "          \"index\": 0,\n",
       "          \"safety_ratings\": [\n",
       "            {\n",
       "              \"category\": \"HARM_CATEGORY_SEXUALLY_EXPLICIT\",\n",
       "              \"probability\": \"NEGLIGIBLE\"\n",
       "            },\n",
       "            {\n",
       "              \"category\": \"HARM_CATEGORY_HATE_SPEECH\",\n",
       "              \"probability\": \"NEGLIGIBLE\"\n",
       "            },\n",
       "            {\n",
       "              \"category\": \"HARM_CATEGORY_HARASSMENT\",\n",
       "              \"probability\": \"NEGLIGIBLE\"\n",
       "            },\n",
       "            {\n",
       "              \"category\": \"HARM_CATEGORY_DANGEROUS_CONTENT\",\n",
       "              \"probability\": \"NEGLIGIBLE\"\n",
       "            }\n",
       "          ],\n",
       "          \"citation_metadata\": {}\n",
       "        }\n",
       "      ],\n",
       "      \"prompt_feedback\": {},\n",
       "      \"usage_metadata\": {}\n",
       "    }),\n",
       ")"
      ]
     },
     "execution_count": 21,
     "metadata": {},
     "output_type": "execute_result"
    }
   ],
   "source": [
    "stream_response"
   ]
  },
  {
   "cell_type": "code",
   "execution_count": 20,
   "metadata": {},
   "outputs": [
    {
     "name": "stdout",
     "output_type": "stream",
     "text": [
      "##\n",
      "------------------------------------------------------------------------------------------------------------------------------------------------------------------------------------------------------------------------------------------------------------------------------------------------------------\n",
      " Imagine a Super-Smart Parrot: That's a Large Language Model (LL\n",
      "------------------------------------------------------------------------------------------------------------------------------------------------------------------------------------------------------------------------------------------------------------------------------------------------------------\n",
      "M)\n",
      "\n",
      "Large language models are like **super-smart parrots** that have\n",
      "------------------------------------------------------------------------------------------------------------------------------------------------------------------------------------------------------------------------------------------------------------------------------------------------------------\n",
      " been trained on a massive amount of text data. They can:\n",
      "\n",
      "* **Understand your words:** Like a parrot recognizing phrases, LLMs can analyze your text\n",
      "------------------------------------------------------------------------------------------------------------------------------------------------------------------------------------------------------------------------------------------------------------------------------------------------------------\n",
      " and figure out its meaning.\n",
      "* **Generate human-like text:**  Instead of mimicking phrases, they can create coherent and grammatically correct text on various\n",
      "------------------------------------------------------------------------------------------------------------------------------------------------------------------------------------------------------------------------------------------------------------------------------------------------------------\n",
      " topics, like stories, poems, or even code.\n",
      "* **Answer your questions:** LLMs can process information from their training data to provide answers, explanations, and summaries. \n",
      "\n",
      "**Here's an example:**\n",
      "\n",
      "Imagine you\n",
      "------------------------------------------------------------------------------------------------------------------------------------------------------------------------------------------------------------------------------------------------------------------------------------------------------------\n",
      " ask an LLM like **ChatGPT (a popular LLM)**:\n",
      "\n",
      "**You:** \"Write a short poem about a cat napping in a sunbeam.\"\n",
      "\n",
      "**ChatGPT:** \n",
      "\n",
      ">A golden ray of warmth descends\n",
      "------------------------------------------------------------------------------------------------------------------------------------------------------------------------------------------------------------------------------------------------------------------------------------------------------------\n",
      ",\n",
      ">Upon a furry form, it blends.\n",
      ">A gentle purr, a sleepy sigh,\n",
      ">As whiskered dreams drift softly by.\n",
      ">The sunbeam holds its fluffy prize,\n",
      ">A purring shadow, with closed eyes.\n",
      "\n",
      "**This demonstrates how LLMs can:**\n",
      "\n",
      "\n",
      "------------------------------------------------------------------------------------------------------------------------------------------------------------------------------------------------------------------------------------------------------------------------------------------------------------\n",
      "* **Understand the request:** The LLM understands you want a poem about a cat napping in the sun.\n",
      "* **Generate creative text:** It doesn't just copy existing poems, it crafts an original one.\n",
      "* **Mimic human language:** The poem uses vocabulary, structure, and style typical of\n",
      "------------------------------------------------------------------------------------------------------------------------------------------------------------------------------------------------------------------------------------------------------------------------------------------------------------\n",
      " human-written poetry.\n",
      "\n",
      "**LLMs are powerful tools with diverse applications, such as:**\n",
      "\n",
      "* **Chatbots:** Providing customer service and answering questions.\n",
      "* **Content creation:** Generating articles, stories, and social media posts.\n",
      "* **Translation:** Converting text between different languages.\n",
      "* **Code generation\n",
      "------------------------------------------------------------------------------------------------------------------------------------------------------------------------------------------------------------------------------------------------------------------------------------------------------------\n",
      ":** Assisting programmers in writing and debugging code.\n",
      "\n",
      "However, it's important to remember that **LLMs are not sentient or conscious**. They operate based on patterns in the data they were trained on, and while they can seem impressively human-like, they lack true understanding or awareness.\n",
      "\n",
      "------------------------------------------------------------------------------------------------------------------------------------------------------------------------------------------------------------------------------------------------------------------------------------------------------------\n"
     ]
    }
   ],
   "source": [
    "for chunk in stream_response:\n",
    "    print(chunk.text)\n",
    "    print(\"------\"*50)"
   ]
  },
  {
   "cell_type": "markdown",
   "metadata": {},
   "source": [
    "# Giving a image to our LLM model and asking abouth that picture"
   ]
  },
  {
   "cell_type": "code",
   "execution_count": 22,
   "metadata": {},
   "outputs": [
    {
     "name": "stderr",
     "output_type": "stream",
     "text": [
      "  % Total    % Received % Xferd  Average Speed   Time    Time     Time  Current\n",
      "                                 Dload  Upload   Total   Spent    Left  Speed\n",
      "\n",
      "  0     0    0     0    0     0      0      0 --:--:-- --:--:-- --:--:--     0\n",
      "  0     0    0     0    0     0      0      0 --:--:--  0:00:01 --:--:--     0\n",
      "  0 2981k    0 10968    0     0   6111      0  0:08:19  0:00:01  0:08:18  6113\n",
      "100 2981k  100 2981k    0     0  1386k      0  0:00:02  0:00:02 --:--:-- 1387k\n",
      "'w' is not recognized as an internal or external command,\n",
      "operable program or batch file.\n",
      "'auto' is not recognized as an internal or external command,\n",
      "operable program or batch file.\n",
      "'fit' is not recognized as an internal or external command,\n",
      "operable program or batch file.\n",
      "'ixlib' is not recognized as an internal or external command,\n",
      "operable program or batch file.\n",
      "'ixid' is not recognized as an internal or external command,\n",
      "operable program or batch file.\n"
     ]
    }
   ],
   "source": [
    "! curl -o image.jpg https://images.unsplash.com/photo-1546069901-ba9599a7e63c?q=80&w=2080&auto=format&fit=crop&ixlib=rb-4.0.3&ixid=M3wxMjA3fDB8MHxwaG90by1wYWdlfHx8fGVufDB8fHx8fA%3D%3D"
   ]
  },
  {
   "cell_type": "code",
   "execution_count": 23,
   "metadata": {},
   "outputs": [],
   "source": [
    "import PIL.Image\n",
    "img = PIL.Image.open('./image.jpg')"
   ]
  },
  {
   "cell_type": "code",
   "execution_count": 25,
   "metadata": {},
   "outputs": [],
   "source": [
    "img_model = genai.GenerativeModel('gemini-pro-vision')"
   ]
  },
  {
   "cell_type": "code",
   "execution_count": 26,
   "metadata": {},
   "outputs": [],
   "source": [
    "img_response = img_model.generate_content(img)"
   ]
  },
  {
   "cell_type": "code",
   "execution_count": 28,
   "metadata": {},
   "outputs": [
    {
     "data": {
      "text/markdown": [
       ">  This dish is a great source of protein and fiber. \n",
       ">  It is also low in calories and fat. \n",
       ">  The tofu is a good source of iron and calcium. \n",
       ">  The vegetables are a good source of vitamins and minerals. \n",
       ">  The dish is also a good source of antioxidants. \n"
      ],
      "text/plain": [
       "<IPython.core.display.Markdown object>"
      ]
     },
     "execution_count": 28,
     "metadata": {},
     "output_type": "execute_result"
    }
   ],
   "source": [
    "to_markdown(img_response.text)"
   ]
  },
  {
   "cell_type": "code",
   "execution_count": 31,
   "metadata": {},
   "outputs": [],
   "source": [
    "blog_model = genai.GenerativeModel('gemini-1.5-flash')"
   ]
  },
  {
   "cell_type": "code",
   "execution_count": 32,
   "metadata": {},
   "outputs": [],
   "source": [
    "blog_response = blog_model.generate_content(['Write a short and engaging blog post on this picture. It should include a description of meal in the photo and talk about my journey meal preperation', img])"
   ]
  },
  {
   "cell_type": "code",
   "execution_count": 33,
   "metadata": {},
   "outputs": [
    {
     "data": {
      "text/markdown": [
       "> ## My Meal Prep Journey: From Chaos to Colourful Bowls\n",
       "> \n",
       "> This vibrant bowl is more than just a delicious meal, it's a testament to my journey with meal prepping. \n",
       ">   It used to be a dreaded chore, but now it's a ritual I genuinely enjoy. \n",
       ">  \n",
       "> \n",
       "> This bowl bursts with flavour and texture: crispy tofu seasoned with a hint of spice, tender boiled eggs, sweet corn, crunchy edamame, juicy tomatoes, and crisp lettuce and cucumber. \n",
       ">  It's a symphony of fresh ingredients that keeps me energized and satisfied all day long. \n",
       ">  \n",
       "> \n",
       "> My journey started with a desire for healthier eating habits and a longing for more time in the evenings. \n",
       ">  I quickly realized that meal prepping wasn't just about saving time, it was about creating delicious and nourishing meals that I actually looked forward to. \n",
       ">  \n",
       "> \n",
       "> Now, I find myself embracing the process of prepping, chopping, and creating these vibrant bowls. \n",
       ">  It's a calming and fulfilling ritual that sets me up for a week of mindful and healthy eating. \n",
       ">  \n",
       "> \n",
       "> So, if you're on the fence about meal prepping, give it a try! You might be surprised at how much you enjoy it, and the joy it brings to your plate (and your life!). \n",
       ">  \n"
      ],
      "text/plain": [
       "<IPython.core.display.Markdown object>"
      ]
     },
     "execution_count": 33,
     "metadata": {},
     "output_type": "execute_result"
    }
   ],
   "source": [
    "to_markdown(blog_response.text)"
   ]
  },
  {
   "cell_type": "code",
   "execution_count": null,
   "metadata": {},
   "outputs": [],
   "source": []
  }
 ],
 "metadata": {
  "kernelspec": {
   "display_name": "Python 3",
   "language": "python",
   "name": "python3"
  },
  "language_info": {
   "codemirror_mode": {
    "name": "ipython",
    "version": 3
   },
   "file_extension": ".py",
   "mimetype": "text/x-python",
   "name": "python",
   "nbconvert_exporter": "python",
   "pygments_lexer": "ipython3",
   "version": "3.10.14"
  }
 },
 "nbformat": 4,
 "nbformat_minor": 2
}
