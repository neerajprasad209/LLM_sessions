{
 "cells": [
  {
   "cell_type": "markdown",
   "metadata": {},
   "source": [
    "# Working with the OPENAI API"
   ]
  },
  {
   "cell_type": "code",
   "execution_count": 1,
   "metadata": {},
   "outputs": [],
   "source": [
    "import os\n",
    "from langchain.chat_models import ChatOpenAI\n",
    "from dotenv import load_dotenv\n",
    "import os"
   ]
  },
  {
   "cell_type": "code",
   "execution_count": 10,
   "metadata": {},
   "outputs": [],
   "source": [
    "import textwrap\n",
    "from IPython.display import display\n",
    "from IPython.display import Markdown\n",
    "\n",
    "def to_markdown(text):\n",
    "    text = text.replace(\".\",\" *\")\n",
    "\n",
    "    return Markdown(textwrap.indent(text,'> ', predicate=lambda _:True))"
   ]
  },
  {
   "cell_type": "code",
   "execution_count": 4,
   "metadata": {},
   "outputs": [],
   "source": [
    "load_dotenv()\n",
    "\n",
    "api_key = os.getenv('OPENAI_API_KEY')"
   ]
  },
  {
   "cell_type": "code",
   "execution_count": 5,
   "metadata": {},
   "outputs": [],
   "source": [
    "model = ChatOpenAI(api_key=api_key)"
   ]
  },
  {
   "cell_type": "code",
   "execution_count": 12,
   "metadata": {},
   "outputs": [],
   "source": [
    "response = model.invoke(\"Write a essay of 100 words about the forest for a 5 year old kid\")"
   ]
  },
  {
   "cell_type": "code",
   "execution_count": 14,
   "metadata": {},
   "outputs": [
    {
     "name": "stdout",
     "output_type": "stream",
     "text": [
      "content=\"Forests are magical places full of trees, animals, and plants. They are like giant playgrounds for nature. You can explore and discover so many cool things in the forest, like birds chirping, squirrels playing, and flowers blooming. The trees are tall and strong, providing shade and shelter for all the creatures that live there. You can go on adventures, collect leaves, and even have a picnic in the forest. It's a really special place where you can use your imagination and have fun. So next time you go to the forest, remember to look around and enjoy all the beauty it has to offer!\" response_metadata={'token_usage': {'completion_tokens': 126, 'prompt_tokens': 24, 'total_tokens': 150}, 'model_name': 'gpt-3.5-turbo', 'system_fingerprint': None, 'finish_reason': 'stop', 'logprobs': None} id='run-d3bd09b4-01c6-4c7a-bfa4-0d78412bad11-0'\n"
     ]
    }
   ],
   "source": [
    "print(response)"
   ]
  },
  {
   "cell_type": "code",
   "execution_count": 13,
   "metadata": {},
   "outputs": [
    {
     "data": {
      "text/markdown": [
       "> Forests are magical places full of trees, animals, and plants * They are like giant playgrounds for nature * You can explore and discover so many cool things in the forest, like birds chirping, squirrels playing, and flowers blooming * The trees are tall and strong, providing shade and shelter for all the creatures that live there * You can go on adventures, collect leaves, and even have a picnic in the forest * It's a really special place where you can use your imagination and have fun * So next time you go to the forest, remember to look around and enjoy all the beauty it has to offer!"
      ],
      "text/plain": [
       "<IPython.core.display.Markdown object>"
      ]
     },
     "execution_count": 13,
     "metadata": {},
     "output_type": "execute_result"
    }
   ],
   "source": [
    "to_markdown(response.content)"
   ]
  },
  {
   "cell_type": "code",
   "execution_count": null,
   "metadata": {},
   "outputs": [],
   "source": []
  }
 ],
 "metadata": {
  "kernelspec": {
   "display_name": "Python 3",
   "language": "python",
   "name": "python3"
  },
  "language_info": {
   "codemirror_mode": {
    "name": "ipython",
    "version": 3
   },
   "file_extension": ".py",
   "mimetype": "text/x-python",
   "name": "python",
   "nbconvert_exporter": "python",
   "pygments_lexer": "ipython3",
   "version": "3.10.14"
  }
 },
 "nbformat": 4,
 "nbformat_minor": 2
}
